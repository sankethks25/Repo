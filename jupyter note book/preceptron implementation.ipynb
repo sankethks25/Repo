{
 "cells": [
  {
   "cell_type": "code",
   "execution_count": 1,
   "id": "c588fefa",
   "metadata": {},
   "outputs": [],
   "source": [
    "import pandas as pd\n",
    "import numpy as np\n",
    "import matplotlib.pyplot as plt\n",
    "import os\n",
    "import joblib"
   ]
  },
  {
   "cell_type": "code",
   "execution_count": 30,
   "id": "264016b9",
   "metadata": {},
   "outputs": [],
   "source": [
    "class preceptron:\n",
    "    def __init__(self,epochs: int=None,eta:float=None):\n",
    "        self.weight = np.random.randn(3) *1e-4\n",
    "        self.eta = eta\n",
    "        self.epochs = epochs\n",
    "        \n",
    "    def fit(self,X,y):\n",
    "        self.X = X\n",
    "        self.y = y\n",
    "        self.X_with_bias = np.c_[self.X,-np.ones((len(self.X),1))]\n",
    "        #print(f\"X_with_bias: \\n{self.X_with_bias}\")\n",
    "        \n",
    "        \n",
    "        "
   ]
  },
  {
   "cell_type": "code",
   "execution_count": 31,
   "id": "07889958",
   "metadata": {},
   "outputs": [
    {
     "data": {
      "text/plain": [
       "array([1.39560702e-04, 7.08880850e-05, 1.68409945e-05])"
      ]
     },
     "execution_count": 31,
     "metadata": {},
     "output_type": "execute_result"
    }
   ],
   "source": [
    "obj = preceptron(eta = 0.01,epochs = 100)\n",
    "obj.weight"
   ]
  },
  {
   "cell_type": "code",
   "execution_count": 32,
   "id": "c0400f33",
   "metadata": {},
   "outputs": [],
   "source": [
    "X = np.ones((4,2))\n",
    "y = np.ones((4,1))"
   ]
  },
  {
   "cell_type": "code",
   "execution_count": 33,
   "id": "64c7746e",
   "metadata": {},
   "outputs": [
    {
     "name": "stdout",
     "output_type": "stream",
     "text": [
      "X_with_bias: \n",
      "[[ 1.  1. -1.]\n",
      " [ 1.  1. -1.]\n",
      " [ 1.  1. -1.]\n",
      " [ 1.  1. -1.]]\n"
     ]
    }
   ],
   "source": [
    "obj.fit(X,y)"
   ]
  },
  {
   "cell_type": "code",
   "execution_count": null,
   "id": "25db4d38",
   "metadata": {},
   "outputs": [],
   "source": []
  }
 ],
 "metadata": {
  "kernelspec": {
   "display_name": "Python 3",
   "language": "python",
   "name": "python3"
  },
  "language_info": {
   "codemirror_mode": {
    "name": "ipython",
    "version": 3
   },
   "file_extension": ".py",
   "mimetype": "text/x-python",
   "name": "python",
   "nbconvert_exporter": "python",
   "pygments_lexer": "ipython3",
   "version": "3.8.8"
  }
 },
 "nbformat": 4,
 "nbformat_minor": 5
}
