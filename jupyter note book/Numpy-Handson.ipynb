{
 "cells": [
  {
   "cell_type": "code",
   "execution_count": 1,
   "id": "e363e63b",
   "metadata": {},
   "outputs": [],
   "source": [
    "import numpy as np"
   ]
  },
  {
   "cell_type": "code",
   "execution_count": 37,
   "id": "540d69b0",
   "metadata": {},
   "outputs": [
    {
     "data": {
      "text/plain": [
       "array([1, 2, 3, 4, 5, 6, 7, 8, 9])"
      ]
     },
     "execution_count": 37,
     "metadata": {},
     "output_type": "execute_result"
    }
   ],
   "source": [
    "np.arange(1,10)"
   ]
  },
  {
   "cell_type": "code",
   "execution_count": 58,
   "id": "a85d693c",
   "metadata": {},
   "outputs": [
    {
     "name": "stderr",
     "output_type": "stream",
     "text": [
      "<ipython-input-58-8794338e0da2>:1: VisibleDeprecationWarning: Creating an ndarray from ragged nested sequences (which is a list-or-tuple of lists-or-tuples-or ndarrays with different lengths or shapes) is deprecated. If you meant to do this, you must specify 'dtype=object' when creating the ndarray.\n",
      "  arr = np.array([[[1,2,3,],[4,5,6]],[1,2,3]])\n"
     ]
    }
   ],
   "source": [
    "arr = np.array([[[1,2,3,],[4,5,6]],[1,2,3]])"
   ]
  },
  {
   "cell_type": "code",
   "execution_count": 112,
   "id": "44ed9783",
   "metadata": {},
   "outputs": [],
   "source": [
    "arr1 = np.array([[[\n",
    "    [[1,2],[1,2],[1,2]],\n",
    "    \n",
    "    [[3,4],[4,5],[1,2]],\n",
    "    \n",
    "    [[4,5],[7,8],[1,2]],\n",
    "    \n",
    "    [[4,5],[7,8],[1,2]]]\n",
    "    \n",
    "                ]])"
   ]
  },
  {
   "cell_type": "code",
   "execution_count": 113,
   "id": "62273050",
   "metadata": {},
   "outputs": [
    {
     "data": {
      "text/plain": [
       "5"
      ]
     },
     "execution_count": 113,
     "metadata": {},
     "output_type": "execute_result"
    }
   ],
   "source": [
    "arr1.ndim"
   ]
  },
  {
   "cell_type": "code",
   "execution_count": 153,
   "id": "8c8a1d38",
   "metadata": {},
   "outputs": [
    {
     "data": {
      "text/plain": [
       "3"
      ]
     },
     "execution_count": 153,
     "metadata": {},
     "output_type": "execute_result"
    }
   ],
   "source": [
    "arr2 = np.array([[[1,2,3],\n",
    "                 [4,5,6],\n",
    "                 [7,8,9]]])\n",
    "arr2.ndim\n"
   ]
  },
  {
   "cell_type": "code",
   "execution_count": 155,
   "id": "02a394f5",
   "metadata": {},
   "outputs": [
    {
     "data": {
      "text/plain": [
       "array([[[1, 2, 3]]])"
      ]
     },
     "execution_count": 155,
     "metadata": {},
     "output_type": "execute_result"
    }
   ],
   "source": [
    "arr2[:1,:1,:] #[1st mat,1st row, every col]"
   ]
  },
  {
   "cell_type": "code",
   "execution_count": 160,
   "id": "edb3a391",
   "metadata": {},
   "outputs": [
    {
     "data": {
      "text/plain": [
       "array([[[1],\n",
       "        [4],\n",
       "        [7]]])"
      ]
     },
     "execution_count": 160,
     "metadata": {},
     "output_type": "execute_result"
    }
   ],
   "source": [
    "arr2[:,:,:1]  #[1st mat,1st row, every col]"
   ]
  },
  {
   "cell_type": "code",
   "execution_count": 163,
   "id": "1407cfc6",
   "metadata": {},
   "outputs": [
    {
     "data": {
      "text/plain": [
       "array([[[1, 0, 3],\n",
       "        [4, 0, 6],\n",
       "        [7, 0, 9]]])"
      ]
     },
     "execution_count": 163,
     "metadata": {},
     "output_type": "execute_result"
    }
   ],
   "source": [
    "arr2[:,:,1:2] = 0\n",
    "arr2"
   ]
  },
  {
   "cell_type": "markdown",
   "id": "dea37bcd",
   "metadata": {},
   "source": [
    "# Math operations"
   ]
  },
  {
   "cell_type": "code",
   "execution_count": 165,
   "id": "46f29088",
   "metadata": {},
   "outputs": [],
   "source": [
    "foo = np.array([[1,2,3],[3,4,5]])\n",
    "bar = np.array([[2,1,4],[3,5,7]])"
   ]
  },
  {
   "cell_type": "code",
   "execution_count": 168,
   "id": "b1202897",
   "metadata": {},
   "outputs": [],
   "source": [
    "sub = foo - bar\n",
    "add = foo + bar"
   ]
  },
  {
   "cell_type": "code",
   "execution_count": 207,
   "id": "7cd09f29",
   "metadata": {},
   "outputs": [
    {
     "name": "stdout",
     "output_type": "stream",
     "text": [
      "[185.  184.8 184.6 184.4 184.2 184.  183.8 183.6 183.4 183.2 183.  182.8\n",
      " 182.6 182.4 182.2 182.  181.8 181.6 181.4 181.2 181.  180.8 180.6 180.4\n",
      " 180.2 180.  179.8 179.6 179.4 179.2 179.  178.8 178.6 178.4 178.2]\n"
     ]
    }
   ],
   "source": [
    "wt = 185-np.arange(7*5)/5\n",
    "print(wt)"
   ]
  },
  {
   "cell_type": "code",
   "execution_count": 211,
   "id": "4c06449c",
   "metadata": {},
   "outputs": [
    {
     "data": {
      "text/plain": [
       "array([183.9, 182.5, 181.1, 179.7, 178.3])"
      ]
     },
     "execution_count": 211,
     "metadata": {},
     "output_type": "execute_result"
    }
   ],
   "source": [
    "(wt[5::7] + wt[6::7])/2  "
   ]
  },
  {
   "cell_type": "markdown",
   "id": "cbc58551",
   "metadata": {},
   "source": [
    "# nd array"
   ]
  },
  {
   "cell_type": "code",
   "execution_count": 219,
   "id": "31970acb",
   "metadata": {},
   "outputs": [
    {
     "name": "stdout",
     "output_type": "stream",
     "text": [
      "[[      1143545456152                  64                   0\n",
      "                    0                   0 3919648144563450673]\n",
      " [4048792557620651619 3559639437375059555 7003159415028791140\n",
      "  3545795498569251174 7365700284462477875 7075265186522870320]]\n"
     ]
    }
   ],
   "source": [
    "ndarr=np.ndarray(shape=(2,6),dtype=\"int64\")\n",
    "print(ndarr)"
   ]
  },
  {
   "cell_type": "code",
   "execution_count": 224,
   "id": "c791e762",
   "metadata": {},
   "outputs": [
    {
     "data": {
      "text/plain": [
       "array([3559639437375059555, 3545795498569251174, 7075265186522870320],\n",
       "      dtype=int64)"
      ]
     },
     "execution_count": 224,
     "metadata": {},
     "output_type": "execute_result"
    }
   ],
   "source": [
    "ndarr[1][1::2]"
   ]
  },
  {
   "cell_type": "code",
   "execution_count": 239,
   "id": "86306539",
   "metadata": {},
   "outputs": [
    {
     "data": {
      "text/plain": [
       "array([[1, 2, 3],\n",
       "       [4, 5, 6]])"
      ]
     },
     "execution_count": 239,
     "metadata": {},
     "output_type": "execute_result"
    }
   ],
   "source": [
    "np.arange(1,7).reshape(2,3)"
   ]
  },
  {
   "cell_type": "code",
   "execution_count": 245,
   "id": "43c9d201",
   "metadata": {},
   "outputs": [
    {
     "data": {
      "text/plain": [
       "array([4.24399158e-314, 8.48798317e-314])"
      ]
     },
     "execution_count": 245,
     "metadata": {},
     "output_type": "execute_result"
    }
   ],
   "source": [
    "np.ndarray(shape=(2,),buffer = np.array([1,2,3,4,5]))"
   ]
  },
  {
   "cell_type": "code",
   "execution_count": null,
   "id": "b18bcdff",
   "metadata": {},
   "outputs": [],
   "source": []
  }
 ],
 "metadata": {
  "kernelspec": {
   "display_name": "Python 3",
   "language": "python",
   "name": "python3"
  },
  "language_info": {
   "codemirror_mode": {
    "name": "ipython",
    "version": 3
   },
   "file_extension": ".py",
   "mimetype": "text/x-python",
   "name": "python",
   "nbconvert_exporter": "python",
   "pygments_lexer": "ipython3",
   "version": "3.8.8"
  }
 },
 "nbformat": 4,
 "nbformat_minor": 5
}
