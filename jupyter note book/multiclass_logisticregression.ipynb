{
 "cells": [
  {
   "cell_type": "code",
   "execution_count": 1,
   "id": "c1955adf",
   "metadata": {},
   "outputs": [],
   "source": [
    "import csv\n",
    "import os\n",
    "import pandas as pd\n",
    "import numpy as np\n",
    "from sklearn.preprocessing import StandardScaler\n",
    "from sklearn.linear_model import Lasso,Ridge,RidgeCV,ElasticNet,ElasticNetCV,LassoCV,LogisticRegression\n",
    "from sklearn.model_selection import train_test_split\n",
    "from sklearn.impute import SimpleImputer\n",
    "import statsmodels.api as sm\n",
    "import matplotlib.pyplot as plt\n",
    "import seaborn as sns\n",
    "from pandas_profiling import ProfileReport\n",
    "from statsmodels.stats.outliers_influence import variance_inflation_factor\n",
    "import pickle\n",
    "from sklearn.preprocessing import LabelEncoder\n",
    "from sklearn.metrics import confusion_matrix\n",
    "from sklearn.metrics import roc_auc_score\n",
    "from sklearn.metrics import roc_curve"
   ]
  },
  {
   "cell_type": "markdown",
   "id": "00b797ca",
   "metadata": {},
   "source": [
    "## Fixing curropted columns"
   ]
  },
  {
   "cell_type": "code",
   "execution_count": 2,
   "id": "e765fc88",
   "metadata": {},
   "outputs": [],
   "source": [
    "class FileManupulation:\n",
    "\n",
    "    def cleanRows(self,path):\n",
    "        with open(path, 'rb') as infile: \n",
    "            data_in = infile.readlines()\n",
    "        with open (path, 'wb') as outfile:\n",
    "            outfile.writelines(data_in[4:])\n",
    "    \n",
    "    def addTargetColumn(self):\n",
    "        main_folder = os.chdir(\"E:/2.ML-DATASETS/AREM\")\n",
    "        sub_folders = os.listdir()\n",
    "        for i in sub_folders:\n",
    "            os.chdir(\"E:/2.ML-DATASETS/AREM/\"+i)\n",
    "            for file in os.listdir():\n",
    "                path = \"E:/2.ML-DATASETS/AREM/\"+i+\"/\"+file\n",
    "                self.cleanRows(path)\n",
    "                df = pd.read_csv(path)\n",
    "                df[\"class\"] = i\n",
    "                df.to_csv(path)\n",
    "                \n",
    "    def mergeAllFiles(self):\n",
    "        resFile = []\n",
    "        main_folder = os.chdir(\"E:/2.ML-DATASETS/AREM\")\n",
    "        sub_folders = os.listdir()\n",
    "        for i in sub_folders:\n",
    "            os.chdir(\"E:/2.ML-DATASETS/AREM/\"+i)\n",
    "            for file in os.listdir():\n",
    "                path = \"E:/2.ML-DATASETS/AREM/\"+i+\"/\"+file\n",
    "                resFile.append(path)\n",
    "        return resFile\n",
    "        "
   ]
  },
  {
   "cell_type": "code",
   "execution_count": 3,
   "id": "a1e28736",
   "metadata": {},
   "outputs": [],
   "source": [
    "# fileManupulate = FileManupulation()\n",
    "# fileManupulate.addTargetColumn()"
   ]
  },
  {
   "cell_type": "code",
   "execution_count": 4,
   "id": "a6acf2ad",
   "metadata": {},
   "outputs": [
    {
     "data": {
      "text/html": [
       "<div>\n",
       "<style scoped>\n",
       "    .dataframe tbody tr th:only-of-type {\n",
       "        vertical-align: middle;\n",
       "    }\n",
       "\n",
       "    .dataframe tbody tr th {\n",
       "        vertical-align: top;\n",
       "    }\n",
       "\n",
       "    .dataframe thead th {\n",
       "        text-align: right;\n",
       "    }\n",
       "</style>\n",
       "<table border=\"1\" class=\"dataframe\">\n",
       "  <thead>\n",
       "    <tr style=\"text-align: right;\">\n",
       "      <th></th>\n",
       "      <th>Unnamed: 0</th>\n",
       "      <th># Columns: time</th>\n",
       "      <th>avg_rss12</th>\n",
       "      <th>var_rss12</th>\n",
       "      <th>avg_rss13</th>\n",
       "      <th>var_rss13</th>\n",
       "      <th>avg_rss23</th>\n",
       "      <th>var_rss23</th>\n",
       "      <th>class</th>\n",
       "    </tr>\n",
       "  </thead>\n",
       "  <tbody>\n",
       "    <tr>\n",
       "      <th>0</th>\n",
       "      <td>0.0</td>\n",
       "      <td>0</td>\n",
       "      <td>43.67</td>\n",
       "      <td>0.47</td>\n",
       "      <td>24.75</td>\n",
       "      <td>0.43</td>\n",
       "      <td>30.00</td>\n",
       "      <td>0.00</td>\n",
       "      <td>bending1</td>\n",
       "    </tr>\n",
       "    <tr>\n",
       "      <th>1</th>\n",
       "      <td>1.0</td>\n",
       "      <td>250</td>\n",
       "      <td>43.33</td>\n",
       "      <td>0.47</td>\n",
       "      <td>25.33</td>\n",
       "      <td>0.47</td>\n",
       "      <td>30.00</td>\n",
       "      <td>0.00</td>\n",
       "      <td>bending1</td>\n",
       "    </tr>\n",
       "    <tr>\n",
       "      <th>2</th>\n",
       "      <td>2.0</td>\n",
       "      <td>500</td>\n",
       "      <td>42.75</td>\n",
       "      <td>0.83</td>\n",
       "      <td>25.25</td>\n",
       "      <td>0.83</td>\n",
       "      <td>30.50</td>\n",
       "      <td>0.50</td>\n",
       "      <td>bending1</td>\n",
       "    </tr>\n",
       "    <tr>\n",
       "      <th>3</th>\n",
       "      <td>3.0</td>\n",
       "      <td>750</td>\n",
       "      <td>41.75</td>\n",
       "      <td>0.43</td>\n",
       "      <td>20.50</td>\n",
       "      <td>3.35</td>\n",
       "      <td>30.75</td>\n",
       "      <td>0.83</td>\n",
       "      <td>bending1</td>\n",
       "    </tr>\n",
       "    <tr>\n",
       "      <th>4</th>\n",
       "      <td>4.0</td>\n",
       "      <td>1000</td>\n",
       "      <td>42.50</td>\n",
       "      <td>0.50</td>\n",
       "      <td>20.75</td>\n",
       "      <td>4.55</td>\n",
       "      <td>31.75</td>\n",
       "      <td>0.43</td>\n",
       "      <td>bending1</td>\n",
       "    </tr>\n",
       "    <tr>\n",
       "      <th>...</th>\n",
       "      <td>...</td>\n",
       "      <td>...</td>\n",
       "      <td>...</td>\n",
       "      <td>...</td>\n",
       "      <td>...</td>\n",
       "      <td>...</td>\n",
       "      <td>...</td>\n",
       "      <td>...</td>\n",
       "      <td>...</td>\n",
       "    </tr>\n",
       "    <tr>\n",
       "      <th>475</th>\n",
       "      <td>475.0</td>\n",
       "      <td>118750</td>\n",
       "      <td>31.50</td>\n",
       "      <td>1.66</td>\n",
       "      <td>12.50</td>\n",
       "      <td>3.20</td>\n",
       "      <td>14.25</td>\n",
       "      <td>4.44</td>\n",
       "      <td>walking</td>\n",
       "    </tr>\n",
       "    <tr>\n",
       "      <th>476</th>\n",
       "      <td>476.0</td>\n",
       "      <td>119000</td>\n",
       "      <td>27.33</td>\n",
       "      <td>1.25</td>\n",
       "      <td>11.33</td>\n",
       "      <td>0.94</td>\n",
       "      <td>20.00</td>\n",
       "      <td>4.00</td>\n",
       "      <td>walking</td>\n",
       "    </tr>\n",
       "    <tr>\n",
       "      <th>477</th>\n",
       "      <td>477.0</td>\n",
       "      <td>119250</td>\n",
       "      <td>37.80</td>\n",
       "      <td>7.68</td>\n",
       "      <td>14.20</td>\n",
       "      <td>2.48</td>\n",
       "      <td>17.25</td>\n",
       "      <td>0.83</td>\n",
       "      <td>walking</td>\n",
       "    </tr>\n",
       "    <tr>\n",
       "      <th>478</th>\n",
       "      <td>478.0</td>\n",
       "      <td>119500</td>\n",
       "      <td>33.75</td>\n",
       "      <td>1.30</td>\n",
       "      <td>15.75</td>\n",
       "      <td>5.21</td>\n",
       "      <td>16.50</td>\n",
       "      <td>2.69</td>\n",
       "      <td>walking</td>\n",
       "    </tr>\n",
       "    <tr>\n",
       "      <th>479</th>\n",
       "      <td>479.0</td>\n",
       "      <td>119750</td>\n",
       "      <td>32.67</td>\n",
       "      <td>3.09</td>\n",
       "      <td>18.67</td>\n",
       "      <td>0.47</td>\n",
       "      <td>14.00</td>\n",
       "      <td>3.16</td>\n",
       "      <td>walking</td>\n",
       "    </tr>\n",
       "  </tbody>\n",
       "</table>\n",
       "<p>41759 rows × 9 columns</p>\n",
       "</div>"
      ],
      "text/plain": [
       "     Unnamed: 0 # Columns: time  avg_rss12  var_rss12  avg_rss13  var_rss13  \\\n",
       "0           0.0               0      43.67       0.47      24.75       0.43   \n",
       "1           1.0             250      43.33       0.47      25.33       0.47   \n",
       "2           2.0             500      42.75       0.83      25.25       0.83   \n",
       "3           3.0             750      41.75       0.43      20.50       3.35   \n",
       "4           4.0            1000      42.50       0.50      20.75       4.55   \n",
       "..          ...             ...        ...        ...        ...        ...   \n",
       "475       475.0          118750      31.50       1.66      12.50       3.20   \n",
       "476       476.0          119000      27.33       1.25      11.33       0.94   \n",
       "477       477.0          119250      37.80       7.68      14.20       2.48   \n",
       "478       478.0          119500      33.75       1.30      15.75       5.21   \n",
       "479       479.0          119750      32.67       3.09      18.67       0.47   \n",
       "\n",
       "     avg_rss23  var_rss23     class  \n",
       "0        30.00       0.00  bending1  \n",
       "1        30.00       0.00  bending1  \n",
       "2        30.50       0.50  bending1  \n",
       "3        30.75       0.83  bending1  \n",
       "4        31.75       0.43  bending1  \n",
       "..         ...        ...       ...  \n",
       "475      14.25       4.44   walking  \n",
       "476      20.00       4.00   walking  \n",
       "477      17.25       0.83   walking  \n",
       "478      16.50       2.69   walking  \n",
       "479      14.00       3.16   walking  \n",
       "\n",
       "[41759 rows x 9 columns]"
      ]
     },
     "execution_count": 4,
     "metadata": {},
     "output_type": "execute_result"
    }
   ],
   "source": [
    "fileManupulate = FileManupulation()\n",
    "mainFile = fileManupulate.mergeAllFiles()\n",
    "df = pd.concat(map(pd.read_csv,mainFile))\n",
    "df"
   ]
  },
  {
   "cell_type": "code",
   "execution_count": 5,
   "id": "d3097dc5",
   "metadata": {},
   "outputs": [
    {
     "data": {
      "text/plain": [
       "480"
      ]
     },
     "execution_count": 5,
     "metadata": {},
     "output_type": "execute_result"
    }
   ],
   "source": [
    "df1 = df.drop(columns=[\"Unnamed: 0\"])\n",
    "df['avg_rss12'].isnull().sum()"
   ]
  },
  {
   "cell_type": "code",
   "execution_count": 6,
   "id": "3758bbf0",
   "metadata": {},
   "outputs": [],
   "source": [
    "df2 = df1"
   ]
  },
  {
   "cell_type": "code",
   "execution_count": 7,
   "id": "90341b8a",
   "metadata": {},
   "outputs": [
    {
     "data": {
      "text/plain": [
       "Index(['time', 'avg_rss12', 'var_rss12', 'avg_rss13', 'var_rss13', 'avg_rss23',\n",
       "       'var_rss23', 'class'],\n",
       "      dtype='object')"
      ]
     },
     "execution_count": 7,
     "metadata": {},
     "output_type": "execute_result"
    }
   ],
   "source": [
    "df2.rename(columns={\"# Columns: time\":\"time\"},inplace = True)\n",
    "df2.columns"
   ]
  },
  {
   "cell_type": "markdown",
   "id": "2019bdf1",
   "metadata": {},
   "source": [
    "# --------------Exploratory Data Analysis-------------"
   ]
  },
  {
   "cell_type": "markdown",
   "id": "69de0489",
   "metadata": {},
   "source": [
    "## One hot encoding\n"
   ]
  },
  {
   "cell_type": "code",
   "execution_count": 8,
   "id": "61ed2aec",
   "metadata": {},
   "outputs": [
    {
     "data": {
      "text/plain": [
       "lying       7200\n",
       "walking     7200\n",
       "standing    7200\n",
       "cycling     7200\n",
       "sitting     7199\n",
       "bending1    2880\n",
       "bending2    2880\n",
       "Name: class, dtype: int64"
      ]
     },
     "execution_count": 8,
     "metadata": {},
     "output_type": "execute_result"
    }
   ],
   "source": [
    "df2[\"class\"].value_counts().sort_values(ascending = False)"
   ]
  },
  {
   "cell_type": "code",
   "execution_count": 9,
   "id": "d8e35436",
   "metadata": {},
   "outputs": [],
   "source": [
    "one_hot_encoded_data = pd.get_dummies(df2,columns = [\"class\"])"
   ]
  },
  {
   "cell_type": "markdown",
   "id": "9b57c1da",
   "metadata": {},
   "source": [
    "## Handling missing values\n",
    "    1.Missing completly at random (MCAR):\n",
    "        probabilty of missing is same for all the observation, There should be no relationship btwn missing value columns \n",
    "        here we can use Mean, Median, Mode technique\n",
    "    2. Missing data not at random(MNAR):\n",
    "        There is absolutly some relationship btwn missing value columns\n",
    "--------------------------------------------------------------------------------------------------------------------\n",
    "    1. Random sample Imputation :\n",
    "        Takes random observation from the dataset and we use this observation ro replace Nan values, it can be use when MCAR"
   ]
  },
  {
   "cell_type": "markdown",
   "id": "e2a6d797",
   "metadata": {},
   "source": [
    "###### In this data set out of 6 \"bending-2\" class 1 of the class has complete NaN values  so we need to fill those Nan values by taking the mean or median or mode or random samples of other bending2 class and replace those values with Nan "
   ]
  },
  {
   "cell_type": "code",
   "execution_count": 11,
   "id": "35e5d393",
   "metadata": {},
   "outputs": [],
   "source": [
    "df3 = df1.loc[df1[\"class\"] == \"bending2\"]"
   ]
  },
  {
   "cell_type": "code",
   "execution_count": 12,
   "id": "77bdef9a",
   "metadata": {},
   "outputs": [
    {
     "name": "stderr",
     "output_type": "stream",
     "text": [
      "<ipython-input-12-3e9cd46e1d6e>:1: SettingWithCopyWarning: \n",
      "A value is trying to be set on a copy of a slice from a DataFrame\n",
      "\n",
      "See the caveats in the documentation: https://pandas.pydata.org/pandas-docs/stable/user_guide/indexing.html#returning-a-view-versus-a-copy\n",
      "  df3.dropna(inplace = True)\n"
     ]
    }
   ],
   "source": [
    "df3.dropna(inplace = True)"
   ]
  },
  {
   "cell_type": "code",
   "execution_count": 13,
   "id": "68c2a268",
   "metadata": {},
   "outputs": [
    {
     "data": {
      "text/html": [
       "<div>\n",
       "<style scoped>\n",
       "    .dataframe tbody tr th:only-of-type {\n",
       "        vertical-align: middle;\n",
       "    }\n",
       "\n",
       "    .dataframe tbody tr th {\n",
       "        vertical-align: top;\n",
       "    }\n",
       "\n",
       "    .dataframe thead th {\n",
       "        text-align: right;\n",
       "    }\n",
       "</style>\n",
       "<table border=\"1\" class=\"dataframe\">\n",
       "  <thead>\n",
       "    <tr style=\"text-align: right;\">\n",
       "      <th></th>\n",
       "      <th>avg_rss12</th>\n",
       "      <th>var_rss12</th>\n",
       "      <th>avg_rss13</th>\n",
       "      <th>var_rss13</th>\n",
       "      <th>avg_rss23</th>\n",
       "      <th>var_rss23</th>\n",
       "    </tr>\n",
       "  </thead>\n",
       "  <tbody>\n",
       "    <tr>\n",
       "      <th>0</th>\n",
       "      <td>23.75</td>\n",
       "      <td>0.43</td>\n",
       "      <td>24.00</td>\n",
       "      <td>0.00</td>\n",
       "      <td>24.67</td>\n",
       "      <td>0.47</td>\n",
       "    </tr>\n",
       "    <tr>\n",
       "      <th>1</th>\n",
       "      <td>22.67</td>\n",
       "      <td>0.94</td>\n",
       "      <td>24.00</td>\n",
       "      <td>0.00</td>\n",
       "      <td>24.67</td>\n",
       "      <td>0.94</td>\n",
       "    </tr>\n",
       "    <tr>\n",
       "      <th>2</th>\n",
       "      <td>21.33</td>\n",
       "      <td>0.47</td>\n",
       "      <td>24.00</td>\n",
       "      <td>0.00</td>\n",
       "      <td>24.75</td>\n",
       "      <td>0.83</td>\n",
       "    </tr>\n",
       "    <tr>\n",
       "      <th>3</th>\n",
       "      <td>21.00</td>\n",
       "      <td>0.00</td>\n",
       "      <td>24.00</td>\n",
       "      <td>0.00</td>\n",
       "      <td>25.25</td>\n",
       "      <td>1.09</td>\n",
       "    </tr>\n",
       "    <tr>\n",
       "      <th>4</th>\n",
       "      <td>23.00</td>\n",
       "      <td>0.71</td>\n",
       "      <td>23.75</td>\n",
       "      <td>0.43</td>\n",
       "      <td>24.75</td>\n",
       "      <td>0.83</td>\n",
       "    </tr>\n",
       "    <tr>\n",
       "      <th>...</th>\n",
       "      <td>...</td>\n",
       "      <td>...</td>\n",
       "      <td>...</td>\n",
       "      <td>...</td>\n",
       "      <td>...</td>\n",
       "      <td>...</td>\n",
       "    </tr>\n",
       "    <tr>\n",
       "      <th>475</th>\n",
       "      <td>27.00</td>\n",
       "      <td>0.00</td>\n",
       "      <td>14.00</td>\n",
       "      <td>0.00</td>\n",
       "      <td>6.50</td>\n",
       "      <td>0.50</td>\n",
       "    </tr>\n",
       "    <tr>\n",
       "      <th>476</th>\n",
       "      <td>27.00</td>\n",
       "      <td>0.00</td>\n",
       "      <td>15.00</td>\n",
       "      <td>0.00</td>\n",
       "      <td>4.00</td>\n",
       "      <td>1.00</td>\n",
       "    </tr>\n",
       "    <tr>\n",
       "      <th>477</th>\n",
       "      <td>27.00</td>\n",
       "      <td>0.00</td>\n",
       "      <td>14.25</td>\n",
       "      <td>0.83</td>\n",
       "      <td>4.00</td>\n",
       "      <td>2.00</td>\n",
       "    </tr>\n",
       "    <tr>\n",
       "      <th>478</th>\n",
       "      <td>27.00</td>\n",
       "      <td>0.00</td>\n",
       "      <td>13.33</td>\n",
       "      <td>1.25</td>\n",
       "      <td>1.50</td>\n",
       "      <td>0.50</td>\n",
       "    </tr>\n",
       "    <tr>\n",
       "      <th>479</th>\n",
       "      <td>26.50</td>\n",
       "      <td>0.50</td>\n",
       "      <td>15.00</td>\n",
       "      <td>0.00</td>\n",
       "      <td>3.00</td>\n",
       "      <td>0.00</td>\n",
       "    </tr>\n",
       "  </tbody>\n",
       "</table>\n",
       "<p>2400 rows × 6 columns</p>\n",
       "</div>"
      ],
      "text/plain": [
       "     avg_rss12  var_rss12  avg_rss13  var_rss13  avg_rss23  var_rss23\n",
       "0        23.75       0.43      24.00       0.00      24.67       0.47\n",
       "1        22.67       0.94      24.00       0.00      24.67       0.94\n",
       "2        21.33       0.47      24.00       0.00      24.75       0.83\n",
       "3        21.00       0.00      24.00       0.00      25.25       1.09\n",
       "4        23.00       0.71      23.75       0.43      24.75       0.83\n",
       "..         ...        ...        ...        ...        ...        ...\n",
       "475      27.00       0.00      14.00       0.00       6.50       0.50\n",
       "476      27.00       0.00      15.00       0.00       4.00       1.00\n",
       "477      27.00       0.00      14.25       0.83       4.00       2.00\n",
       "478      27.00       0.00      13.33       1.25       1.50       0.50\n",
       "479      26.50       0.50      15.00       0.00       3.00       0.00\n",
       "\n",
       "[2400 rows x 6 columns]"
      ]
     },
     "execution_count": 13,
     "metadata": {},
     "output_type": "execute_result"
    }
   ],
   "source": [
    "df3.drop(['class','time'],axis = 1)"
   ]
  },
  {
   "cell_type": "code",
   "execution_count": 15,
   "id": "708658a0",
   "metadata": {},
   "outputs": [],
   "source": [
    "def fillNas(col,tech):\n",
    "    for i in col:\n",
    "        if tech == \"mean\":\n",
    "            mean = df3[i].mean()\n",
    "            df2[i].fillna(mean,inplace=True)\n",
    "        elif tech == \"median\":\n",
    "            median = df2[i].median()\n",
    "            df2[i].fillna(median,inplace=True)\n",
    "        elif tech == \"randomSampleImputation\":\n",
    "            pass\n",
    "\n",
    "null_columns = df2.columns[df2.isnull().any()]\n",
    "fillNas(null_columns,\"median\")"
   ]
  },
  {
   "cell_type": "code",
   "execution_count": 16,
   "id": "5c170e87",
   "metadata": {},
   "outputs": [
    {
     "data": {
      "text/plain": [
       "time         0\n",
       "avg_rss12    0\n",
       "var_rss12    0\n",
       "avg_rss13    0\n",
       "var_rss13    0\n",
       "avg_rss23    0\n",
       "var_rss23    0\n",
       "class        0\n",
       "dtype: int64"
      ]
     },
     "execution_count": 16,
     "metadata": {},
     "output_type": "execute_result"
    }
   ],
   "source": [
    "df2.isnull().sum()"
   ]
  },
  {
   "cell_type": "markdown",
   "id": "2ad41013",
   "metadata": {},
   "source": [
    "## Outliers\n",
    "Detecting outliers :\n",
    "1. Zscore\n",
    "2. IQR\n",
    "3."
   ]
  },
  {
   "cell_type": "code",
   "execution_count": 17,
   "id": "1c419c88",
   "metadata": {},
   "outputs": [
    {
     "data": {
      "text/plain": [
       "<AxesSubplot:>"
      ]
     },
     "execution_count": 17,
     "metadata": {},
     "output_type": "execute_result"
    },
    {
     "data": {
      "image/png": "[encoded data removed]",
      "text/plain": [
       "<Figure size 1440x1440 with 1 Axes>"
      ]
     },
     "metadata": {
      "needs_background": "light"
     },
     "output_type": "display_data"
    }
   ],
   "source": [
    "fig,ax = plt.subplots(figsize = (20,20))\n",
    "sns.boxplot(data = df2,ax = ax)"
   ]
  },
  {
   "cell_type": "code",
   "execution_count": 50,
   "id": "f42674c8",
   "metadata": {},
   "outputs": [],
   "source": [
    "def detectOutliers(data):\n",
    "    q1 = data.quantile(0.25)\n",
    "    q3 = data.quantile(0.75)\n",
    "    iqr = q3-q1\n",
    "    lower_bound = q1-(1.5*iqr)\n",
    "    upper_bound = q3+(1.5*iqr)\n",
    "    return lower_bound,upper_bound\n",
    "\n",
    "lower_bound,upper_bound = detectOutliers(df2)\n",
    "\n",
    "def removeOutliers(lower_bound,upper_bound):\n",
    "    for i in df2.columns[1:-2]:\n",
    "        df2[i] \n",
    "    "
   ]
  },
  {
   "cell_type": "code",
   "execution_count": 68,
   "id": "c135dee8",
   "metadata": {},
   "outputs": [
    {
     "name": "stdout",
     "output_type": "stream",
     "text": [
      "0      43.67\n",
      "1      43.33\n",
      "2      42.75\n",
      "3      41.75\n",
      "4      42.50\n",
      "       ...  \n",
      "475    31.50\n",
      "476    27.33\n",
      "477    37.80\n",
      "478    33.75\n",
      "479    32.67\n",
      "Name: avg_rss12, Length: 41759, dtype: float64\n",
      "0      0.47\n",
      "1      0.47\n",
      "2      0.83\n",
      "3      0.43\n",
      "4      0.50\n",
      "       ... \n",
      "475    1.66\n",
      "476    1.25\n",
      "477    7.68\n",
      "478    1.30\n",
      "479    3.09\n",
      "Name: var_rss12, Length: 41759, dtype: float64\n",
      "0      24.75\n",
      "1      25.33\n",
      "2      25.25\n",
      "3      20.50\n",
      "4      20.75\n",
      "       ...  \n",
      "475    12.50\n",
      "476    11.33\n",
      "477    14.20\n",
      "478    15.75\n",
      "479    18.67\n",
      "Name: avg_rss13, Length: 41759, dtype: float64\n",
      "0      0.43\n",
      "1      0.47\n",
      "2      0.83\n",
      "3      3.35\n",
      "4      4.55\n",
      "       ... \n",
      "475    3.20\n",
      "476    0.94\n",
      "477    2.48\n",
      "478    5.21\n",
      "479    0.47\n",
      "Name: var_rss13, Length: 41759, dtype: float64\n",
      "0      30.00\n",
      "1      30.00\n",
      "2      30.50\n",
      "3      30.75\n",
      "4      31.75\n",
      "       ...  \n",
      "475    14.25\n",
      "476    20.00\n",
      "477    17.25\n",
      "478    16.50\n",
      "479    14.00\n",
      "Name: avg_rss23, Length: 41759, dtype: float64\n"
     ]
    }
   ],
   "source": [
    "for i in df2.columns[1:-2]:\n",
    "    print(df2[i])"
   ]
  },
  {
   "cell_type": "code",
   "execution_count": 67,
   "id": "0ca5bb59",
   "metadata": {},
   "outputs": [
    {
     "name": "stdout",
     "output_type": "stream",
     "text": [
      "avg_rss12 22.462500000000002\n",
      "var_rss12 -1.7300000000000002\n",
      "avg_rss13 1.75\n",
      "var_rss13 -2.45\n",
      "avg_rss23 1.5\n",
      "var_rss23 -2.3149999999999995\n"
     ]
    }
   ],
   "source": [
    "for i,j in lower_bound.items():\n",
    "    print(i,j)"
   ]
  },
  {
   "cell_type": "code",
   "execution_count": 29,
   "id": "2f2898ca",
   "metadata": {},
   "outputs": [],
   "source": [
    "q1 = df2.quantile(0.25)"
   ]
  },
  {
   "cell_type": "code",
   "execution_count": 31,
   "id": "f9260e52",
   "metadata": {},
   "outputs": [],
   "source": [
    "q2 = df2.quantile(0.75)"
   ]
  },
  {
   "cell_type": "code",
   "execution_count": 40,
   "id": "c2626eef",
   "metadata": {},
   "outputs": [],
   "source": [
    "iqr = q2-q1"
   ]
  },
  {
   "cell_type": "code",
   "execution_count": 42,
   "id": "6680affc",
   "metadata": {},
   "outputs": [],
   "source": [
    "ob = q1-(1.5*iqr)"
   ]
  },
  {
   "cell_type": "code",
   "execution_count": 46,
   "id": "445c0973",
   "metadata": {},
   "outputs": [],
   "source": [
    "# importing pandas as pd\n",
    "import pandas as pd\n",
    "\n",
    "# Creating the dataframe\n",
    "d = pd.DataFrame({\"A\":[1, 5, 3, 4, 2],\n",
    "\"B\":[3, 2, 4, 3, 4],\n",
    "\"C\":[2, 2, 7, 3, 4],\n",
    "\"D\":[4, 3, 6, 12, 7]})\n",
    "\n",
    "d1 = pd.DataFrame({\"A\":[10, 5, 93, 4, 2],\n",
    "\"B\":[23, 2, 47, 3, 4],\n",
    "\"C\":[2, 2, 57, 3, 4],\n",
    "\"D\":[4, 43, 6, 1, 7]})\n"
   ]
  },
  {
   "cell_type": "code",
   "execution_count": null,
   "id": "b5e79727",
   "metadata": {},
   "outputs": [],
   "source": []
  }
 ],
 "metadata": {
  "kernelspec": {
   "display_name": "Python 3",
   "language": "python",
   "name": "python3"
  },
  "language_info": {
   "codemirror_mode": {
    "name": "ipython",
    "version": 3
   },
   "file_extension": ".py",
   "mimetype": "text/x-python",
   "name": "python",
   "nbconvert_exporter": "python",
   "pygments_lexer": "ipython3",
   "version": "3.8.8"
  }
 },
 "nbformat": 4,
 "nbformat_minor": 5
}
