{
 "cells": [
  {
   "cell_type": "code",
   "execution_count": 1,
   "id": "106985ce",
   "metadata": {},
   "outputs": [],
   "source": [
    "import pandas as pd\n",
    "import numpy as np\n",
    "import matplotlib.pyplot as plt\n",
    "from sklearn.model_selection import train_test_split\n",
    "from sklearn.preprocessing import LabelEncoder,OneHotEncoder,StandardScaler\n",
    "import keras\n",
    "from keras.models import Sequential\n",
    "from keras.layers import Dense,Dropout\n",
    "from sklearn.metrics import confusion_matrix,accuracy_score\n",
    "from keras.wrappers.scikit_learn import KerasClassifier\n",
    "from sklearn.model_selection import cross_val_score\n",
    "#from scikeras.wrappers import KerasClassifier"
   ]
  },
  {
   "cell_type": "code",
   "execution_count": 2,
   "id": "13353f07",
   "metadata": {},
   "outputs": [],
   "source": [
    "dataset = pd.read_csv(\"E:/DL-DATASETS/Churn_Modelling.csv\")\n",
    "x=  dataset.iloc[:,3:13]\n",
    "y=dataset.iloc[:,-1]\n",
    "labelEncoder_X_1 = LabelEncoder()\n",
    "x.iloc[:,1] = labelEncoder_X_1.fit_transform(x.iloc[:,1])\n",
    "labelEncoder_X_2 = LabelEncoder()\n",
    "x.iloc[:,2] = labelEncoder_X_2.fit_transform(x.iloc[:,2])\n",
    "x = pd.get_dummies(x,columns = [\"Geography\"],drop_first=True)\n",
    "x_train,x_test,y_train,y_test = train_test_split(x,y,test_size=0.2,random_state=0)\n",
    "scale = StandardScaler()\n",
    "x_train=scale.fit_transform(x_train)\n",
    "x_test = scale.transform(x_test)"
   ]
  },
  {
   "cell_type": "code",
   "execution_count": 13,
   "id": "bafe799c",
   "metadata": {},
   "outputs": [],
   "source": [
    "classifier = Sequential()\n",
    "classifier.add(Dense(units = 6,kernel_initializer = 'uniform', activation = \"relu\",input_dim = 11))\n",
    "classifier.add(Dropout(p=0.1)) #drop out 10% of neuron in first layer\n",
    "\n",
    "classifier.add(Dense(units = 6,kernel_initializer = 'uniform', activation = \"relu\"))\n",
    "classifier.add(Dropout(p=0.1)) #drop out 10% of neuron in first layer\n",
    "\n",
    "classifier.add(Dense(units = 1,kernel_initializer = 'uniform', activation = \"sigmoid\"))"
   ]
  },
  {
   "cell_type": "code",
   "execution_count": 14,
   "id": "61e884f8",
   "metadata": {
    "collapsed": true
   },
   "outputs": [
    {
     "name": "stdout",
     "output_type": "stream",
     "text": [
      "Epoch 1/20\n",
      "400/400 [==============================] - 1s 1ms/step - loss: 0.5328 - accuracy: 0.7954\n",
      "Epoch 2/20\n",
      "400/400 [==============================] - 1s 1ms/step - loss: 0.4329 - accuracy: 0.7960\n",
      "Epoch 3/20\n",
      "400/400 [==============================] - 1s 1ms/step - loss: 0.4279 - accuracy: 0.7960\n",
      "Epoch 4/20\n",
      "400/400 [==============================] - 1s 1ms/step - loss: 0.4249 - accuracy: 0.7960\n",
      "Epoch 5/20\n",
      "400/400 [==============================] - 1s 1ms/step - loss: 0.4221 - accuracy: 0.7960\n",
      "Epoch 6/20\n",
      "400/400 [==============================] - 1s 1ms/step - loss: 0.4197 - accuracy: 0.8151\n",
      "Epoch 7/20\n",
      "400/400 [==============================] - 1s 1ms/step - loss: 0.4180 - accuracy: 0.8217\n",
      "Epoch 8/20\n",
      "400/400 [==============================] - 1s 1ms/step - loss: 0.4165 - accuracy: 0.8241\n",
      "Epoch 9/20\n",
      "400/400 [==============================] - 0s 1ms/step - loss: 0.4151 - accuracy: 0.8273\n",
      "Epoch 10/20\n",
      "400/400 [==============================] - 0s 1ms/step - loss: 0.4139 - accuracy: 0.8299\n",
      "Epoch 11/20\n",
      "400/400 [==============================] - 0s 1ms/step - loss: 0.4131 - accuracy: 0.8311\n",
      "Epoch 12/20\n",
      "400/400 [==============================] - 1s 1ms/step - loss: 0.4116 - accuracy: 0.8309\n",
      "Epoch 13/20\n",
      "400/400 [==============================] - 1s 1ms/step - loss: 0.4109 - accuracy: 0.8340\n",
      "Epoch 14/20\n",
      "400/400 [==============================] - 1s 1ms/step - loss: 0.4104 - accuracy: 0.8335\n",
      "Epoch 15/20\n",
      "400/400 [==============================] - 1s 1ms/step - loss: 0.4095 - accuracy: 0.8335\n",
      "Epoch 16/20\n",
      "400/400 [==============================] - 1s 1ms/step - loss: 0.4092 - accuracy: 0.8332\n",
      "Epoch 17/20\n",
      "400/400 [==============================] - 1s 1ms/step - loss: 0.4086 - accuracy: 0.8347\n",
      "Epoch 18/20\n",
      "400/400 [==============================] - 1s 1ms/step - loss: 0.4081 - accuracy: 0.8345\n",
      "Epoch 19/20\n",
      "400/400 [==============================] - 1s 1ms/step - loss: 0.4075 - accuracy: 0.8340\n",
      "Epoch 20/20\n",
      "400/400 [==============================] - 1s 1ms/step - loss: 0.4072 - accuracy: 0.8345\n"
     ]
    },
    {
     "data": {
      "text/plain": [
       "<keras.callbacks.History at 0x276f09aa940>"
      ]
     },
     "execution_count": 14,
     "metadata": {},
     "output_type": "execute_result"
    }
   ],
   "source": [
    "classifier.compile(optimizer='adam',loss='binary_crossentropy',metrics=['accuracy'])\n",
    "classifier.fit(x_train,y_train,batch_size=20,epochs=20)"
   ]
  },
  {
   "cell_type": "code",
   "execution_count": 3,
   "id": "5bce0c72",
   "metadata": {},
   "outputs": [],
   "source": [
    "y_pred = classifier.predict(x_test)\n",
    "y_pred = (y_pred>0.5)\n",
    "cm = confusion_matrix(y_test,y_pred)\n",
    "accuracy_score(y_test,y_pred)\n"
   ]
  },
  {
   "cell_type": "code",
   "execution_count": 4,
   "id": "8eada4fe",
   "metadata": {},
   "outputs": [],
   "source": [
    "y_single_pred = classifier.predict(scale.transform([[0,0,600,1,40,3,60000,2,1,1,50000]]))\n",
    "y_single_pred = (y_single_pred > 0.5)\n",
    "y_single_pred"
   ]
  },
  {
   "cell_type": "markdown",
   "id": "a143989b",
   "metadata": {},
   "source": [
    "## Evaluating ANN"
   ]
  },
  {
   "cell_type": "code",
   "execution_count": 3,
   "id": "b4b7e1d6",
   "metadata": {},
   "outputs": [],
   "source": [
    "def build_classifier():\n",
    "    classifier = Sequential()\n",
    "    classifier.add(Dense(units = 6,kernel_initializer = 'uniform', activation = \"relu\",input_dim = 11))\n",
    "    classifier.add(Dense(units = 6,kernel_initializer = 'uniform', activation = \"relu\"))\n",
    "    classifier.add(Dense(units = 1,kernel_initializer = 'uniform', activation = \"sigmoid\"))\n",
    "    classifier.compile(optimizer='adam',loss='binary_crossentropy',metrics=['accuracy'])\n",
    "\n",
    "    return classifier"
   ]
  },
  {
   "cell_type": "code",
   "execution_count": 5,
   "id": "6ce16470",
   "metadata": {},
   "outputs": [
    {
     "name": "stderr",
     "output_type": "stream",
     "text": [
      "<ipython-input-5-7a40b5785a53>:1: DeprecationWarning: KerasClassifier is deprecated, use Sci-Keras (https://github.com/adriangb/scikeras) instead. See https://www.adriangb.com/scikeras/stable/migration.html for help migrating.\n",
      "  classifier = KerasClassifier(build_fn=build_classifier,batch_size = 10,epochs = 100)\n"
     ]
    }
   ],
   "source": [
    "classifier = KerasClassifier(build_fn=build_classifier,batch_size = 10,epochs = 100)\n"
   ]
  },
  {
   "cell_type": "code",
   "execution_count": 5,
   "id": "eb2eaacc",
   "metadata": {},
   "outputs": [],
   "source": [
    "# x_train = pd.DataFrame(x_train)\n",
    "# y_train = pd.DataFrame(y_train)"
   ]
  },
  {
   "cell_type": "code",
   "execution_count": 7,
   "id": "a2c82186",
   "metadata": {},
   "outputs": [
    {
     "name": "stderr",
     "output_type": "stream",
     "text": [
      "[Parallel(n_jobs=-1)]: Using backend LokyBackend with 4 concurrent workers.\n",
      "[Parallel(n_jobs=-1)]: Done  10 out of  10 | elapsed: 12.9min finished\n"
     ]
    }
   ],
   "source": [
    "accuracies = cross_val_score(estimator = classifier, X = x_train,y=y_train.values, cv = 10,n_jobs = -1,verbose=2)"
   ]
  },
  {
   "cell_type": "code",
   "execution_count": 10,
   "id": "96ab2994",
   "metadata": {},
   "outputs": [
    {
     "data": {
      "text/plain": [
       "0.8414999961853027"
      ]
     },
     "execution_count": 10,
     "metadata": {},
     "output_type": "execute_result"
    }
   ],
   "source": [
    "accuracies.mean()"
   ]
  },
  {
   "cell_type": "code",
   "execution_count": 12,
   "id": "cdcfe835",
   "metadata": {},
   "outputs": [
    {
     "data": {
      "text/plain": [
       "0.019920148402176024"
      ]
     },
     "execution_count": 12,
     "metadata": {},
     "output_type": "execute_result"
    }
   ],
   "source": [
    "accuracies.std()"
   ]
  },
  {
   "cell_type": "code",
   "execution_count": null,
   "id": "206b8455",
   "metadata": {},
   "outputs": [],
   "source": []
  },
  {
   "cell_type": "code",
   "execution_count": null,
   "id": "f1969f8d",
   "metadata": {},
   "outputs": [],
   "source": []
  },
  {
   "cell_type": "code",
   "execution_count": null,
   "id": "b968b183",
   "metadata": {},
   "outputs": [],
   "source": []
  }
 ],
 "metadata": {
  "kernelspec": {
   "display_name": "Python 3",
   "language": "python",
   "name": "python3"
  },
  "language_info": {
   "codemirror_mode": {
    "name": "ipython",
    "version": 3
   },
   "file_extension": ".py",
   "mimetype": "text/x-python",
   "name": "python",
   "nbconvert_exporter": "python",
   "pygments_lexer": "ipython3",
   "version": "3.8.8"
  }
 },
 "nbformat": 4,
 "nbformat_minor": 5
}
