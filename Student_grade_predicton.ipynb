{
 "cells": [
  {
   "cell_type": "code",
   "execution_count": 33,
   "metadata": {},
   "outputs": [
    {
     "name": "stdout",
     "output_type": "stream",
     "text": [
      "coef:\n",
      " [ 0.15056124  0.9783644  -0.22922476 -0.27950361  0.03800959]\n",
      "interscept:\n",
      " [ 0.15056124  0.9783644  -0.22922476 -0.27950361  0.03800959]\n",
      "8.979808050112947 [ 6 10  2  0  4] 10\n",
      "14.777641790194293 [11 15  1  0  2] 15\n",
      "12.013561487137496 [14 12  2  1  8] 12\n",
      "12.746370942900079 [10 13  1  0  4] 14\n",
      "9.5820529918302 [10 10  2  0  4] 10\n",
      "9.128892154210952 [ 8 10  2  0  0] 12\n",
      "11.763885074553727 [12 12  2  0  2] 11\n",
      "14.250961098859625 [14 14  1  0  2] 14\n",
      "12.285277087103513 [11 13  4  0  6] 14\n",
      "10.035213829449445 [12 10  2  0  8] 11\n",
      "16.952708062801634 [16 17  3  0  0] 17\n",
      "18.540083212257677 [17 18  1  0  0] 18\n",
      "10.404567475238611 [11 11  4  0  8] 10\n",
      "11.86447738303949 [12 12  2  1 12] 13\n",
      "16.279587606761403 [16 16  2  0  2] 17\n",
      "14.250961098859625 [14 14  1  0  2] 13\n",
      "9.503389469057447 [11 10  3  0  4] 11\n",
      "15.604132734598904 [16 15  3  0 16] 15\n",
      "15.00010073828017 [14 15  2  0  2] 15\n",
      "10.329715499919434 [11 11  3  0  0] 10\n",
      "13.79515592184794 [13 14  2  0  0] 15\n",
      "15.226681157089791 [15 15  2  0  4] 15\n",
      "15.15066197370948 [15 15  2  0  2] 16\n",
      "-1.5867792223618695 [4 0 1 2 0] 0\n",
      "13.873819444620691 [12 14  1  0  0] 15\n",
      "9.81127775003226 [10 10  1  0  4] 10\n",
      "8.945859383557186 [10 10  3  2  8] 10\n",
      "-0.42552706381304584 [8 0 1 0 0] 0\n",
      "15.644476742411323 [16 15  1  0  5] 16\n",
      "16.12902637133209 [15 16  2  0  2] 16\n",
      "12.892810707605644 [13 13  2  0  2] 11\n",
      "5.2940980864932765 [7 6 1 0 0] 0\n",
      "7.702820511296604 [ 9  8  2  0 10] 8\n",
      "13.453379519906722 [12 14  3  0  1] 15\n",
      "-1.7157215953483425 [5 0 1 3 0] 0\n",
      "9.506033808449889 [10 10  2  0  2] 11\n",
      "13.42463506799764 [14 13  1  0  6] 13\n",
      "8.29844465262522 [10  9  3  0  2] 9\n",
      "10.104612212441118 [ 9 11  3  0  2] 11\n",
      "14.095111184645434 [15 14  3  0  6] 14\n"
     ]
    }
   ],
   "source": [
    "import pandas as pd\n",
    "import numpy as np\n",
    "import sklearn\n",
    "import matplotlib.pyplot as plt\n",
    "import pickle\n",
    "from sklearn import linear_model\n",
    "from sklearn.utils import shuffle\n",
    "from matplotlib import style\n",
    "\n",
    "data = pd.read_csv('C:\\pycharm\\ML\\student-mat.csv',sep = ';')\n",
    "#print(data)\n",
    "df = pd.DataFrame(data)\n",
    "row =  df.index\n",
    "column = df.columns\n",
    "df.head()\n",
    "df.tail()\n",
    "filt_data = df[[\"G1\", \"G2\", \"G3\", \"studytime\", \"failures\", \"absences\"]]\n",
    "\n",
    "predict = \"G3\"\n",
    "x = np.array(filt_data.drop([predict],1))\n",
    "y = np.array(filt_data[predict])\n",
    "x_train, x_test, y_train, y_test = sklearn.model_selection.train_test_split(x,y,test_size = 0.1)\n",
    "\n",
    "'''best = 10\n",
    "for _ in range(100):\n",
    "    x_train, x_test, y_train, y_test = sklearn.model_selection.train_test_split(x,y,test_size = 0.1)\n",
    "\n",
    "    linear = linear_model.LinearRegression()\n",
    "    linear.fit(x_train, y_train)\n",
    "    acc = linear.score(x_test,y_test)\n",
    "    print(acc)\n",
    "    if acc > best:\n",
    "        best = acc\n",
    "        with open(\"student_model.pickle\",\"wb\") as f:\n",
    "            pickle.dump(linear,f) '''\n",
    "    \n",
    "pickle_in = open(\"student_model.pickle\",\"rb\")\n",
    "linear = pickle.load(pickle_in)\n",
    "\n",
    "print('coef:\\n', linear.coef_)\n",
    "print('interscept:\\n', linear.coef_)\n",
    "predictions = linear.predict(x_test)\n",
    "for x in range(len(predictions)):\n",
    "    print(predictions[x],x_test[x],y_test[x])\n",
    "    "
   ]
  },
  {
   "cell_type": "code",
   "execution_count": 36,
   "metadata": {},
   "outputs": [
    {
     "data": {
      "image/png": "[encoded data removed]",
      "text/plain": [
       "<Figure size 432x288 with 1 Axes>"
      ]
     },
     "metadata": {},
     "output_type": "display_data"
    }
   ],
   "source": [
    "p = 'G1'\n",
    "style.use(\"ggplot\")\n",
    "plt.scatter(data[p],data[\"G3\"])\n",
    "plt.xlabel(p)\n",
    "plt.ylabel(\"final grade\")\n",
    "plt.show()"
   ]
  },
  {
   "cell_type": "code",
   "execution_count": null,
   "metadata": {},
   "outputs": [],
   "source": []
  },
  {
   "cell_type": "code",
   "execution_count": null,
   "metadata": {},
   "outputs": [],
   "source": [
    "\n"
   ]
  },
  {
   "cell_type": "code",
   "execution_count": 14,
   "metadata": {
    "collapsed": true
   },
   "outputs": [
    {
     "data": {
      "text/plain": [
       "array([[14, 13,  2,  0,  2],\n",
       "       [ 7,  7,  3,  0,  6],\n",
       "       [ 9, 11,  2,  0,  0],\n",
       "       ...,\n",
       "       [12, 14,  1,  0,  0],\n",
       "       [10,  9,  3,  0,  4],\n",
       "       [10, 13,  4,  0,  6]], dtype=int64)"
      ]
     },
     "execution_count": 14,
     "metadata": {},
     "output_type": "execute_result"
    }
   ],
   "source": []
  },
  {
   "cell_type": "code",
   "execution_count": null,
   "metadata": {},
   "outputs": [],
   "source": []
  }
 ],
 "metadata": {
  "kernelspec": {
   "display_name": "Python 3",
   "language": "python",
   "name": "python3"
  },
  "language_info": {
   "codemirror_mode": {
    "name": "ipython",
    "version": 3
   },
   "file_extension": ".py",
   "mimetype": "text/x-python",
   "name": "python",
   "nbconvert_exporter": "python",
   "pygments_lexer": "ipython3",
   "version": "3.7.6"
  }
 },
 "nbformat": 4,
 "nbformat_minor": 4
}
