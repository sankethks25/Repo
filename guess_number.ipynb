{
 "cells": [
  {
   "cell_type": "code",
   "execution_count": 2,
   "metadata": {},
   "outputs": [],
   "source": [
    "import random\n",
    "class Guess: \n",
    "    def __init__(self):\n",
    "        self.rand_guess = 0\n",
    "   \n",
    "    def numbers(self):\n",
    "        self.arr = []\n",
    "        for nm in range(11):\n",
    "            self.arr.append(nm)\n",
    "            self.real_arr = self.arr\n",
    "        #print(self.real_arr)\n",
    "        \n",
    "    def shuffle(self):\n",
    "        self.rand_guess = random.randint(1,10) # GENERATES RANDOM NUMBER\n",
    "       # print(self.rand_guess)\n",
    "        #random.shuffle(self.arr)\n",
    "        #print(self.arr)\n",
    "       \n",
    "    \n",
    "    #def popout(self):\n",
    "        #self.guess_num = self.arr.pop()\n",
    "        #return self.guess_num\n",
    "    \n",
    "    def check(self,num):           \n",
    "            if num == self.rand_guess:                \n",
    "                print(\"success full\")\n",
    "            else:\n",
    "                print('wrong answer')\n",
    "\n",
    "\n",
    "            \n",
    "    def check_for_index(self):\n",
    "        if self.rand_guess <= 5:\n",
    "            print(\"the guessable num is within 0 to 5\")\n",
    "        elif self.rand_guess >5  :\n",
    "            print(\"the guessable num is within 5 to 10\")   "
   ]
  },
  {
   "cell_type": "code",
   "execution_count": null,
   "metadata": {
    "scrolled": true
   },
   "outputs": [
    {
     "name": "stdout",
     "output_type": "stream",
     "text": [
      "******************** welcome to guessing game **********************\n",
      "enter the guessing num from 0 to 10  :-0\n",
      "++++++++++++++++ wrong answer d+++++++++++++\n",
      "the guessable num is within 0 to 5\n",
      "enter the guessing num from 0 to 10  :-0\n",
      "++++++++++++++++ wrong answer d+++++++++++++\n",
      "the guessable num is within 0 to 5\n"
     ]
    }
   ],
   "source": [
    "while True: \n",
    "    print(\"******************** welcome to guessing game **********************\") \n",
    "    test_guess = Guess()\n",
    "\n",
    "    test_guess.numbers()\n",
    "    test_guess.shuffle()\n",
    "    while True:  \n",
    "        num = int(input('enter the guessing num from 0 to 10  :-')) \n",
    "        if num == test_guess.rand_guess:                \n",
    "            print(\"------------- successfull ----------------\")\n",
    "            break\n",
    "        else:\n",
    "            print('++++++++++++++++ wrong answer d+++++++++++++')\n",
    "            test_guess.check_for_index() \n",
    "    play_again=input(\"do yo want to play again :- y/n\")\n",
    "    if play_again == 'n': \n",
    "        print('...............THANK YOU...............')\n",
    "        break\n",
    "        \n",
    "        \n",
    "        \n",
    "        \n",
    "        \n",
    "        \n",
    "        \n",
    "        \n",
    "        \n",
    "        \n",
    "        \n",
    "       # test_guess.check(num)         \n",
    "       # test_guess.check_for_index() \n",
    "        \n",
    "        \n",
    "    "
   ]
  },
  {
   "cell_type": "code",
   "execution_count": null,
   "metadata": {},
   "outputs": [],
   "source": []
  }
 ],
 "metadata": {
  "kernelspec": {
   "display_name": "Python 3",
   "language": "python",
   "name": "python3"
  },
  "language_info": {
   "codemirror_mode": {
    "name": "ipython",
    "version": 3
   },
   "file_extension": ".py",
   "mimetype": "text/x-python",
   "name": "python",
   "nbconvert_exporter": "python",
   "pygments_lexer": "ipython3",
   "version": "3.7.6"
  }
 },
 "nbformat": 4,
 "nbformat_minor": 4
}
