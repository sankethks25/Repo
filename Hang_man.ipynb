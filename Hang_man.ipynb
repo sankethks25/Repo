{
 "cells": [
  {
   "cell_type": "code",
   "execution_count": 1,
   "metadata": {},
   "outputs": [
    {
     "name": "stdout",
     "output_type": "stream",
     "text": [
      "['v', 'a', 'n']\n"
     ]
    }
   ],
   "source": [
    "import random\n",
    "lis = [\"car\",\"van\",\"computer\"] \n",
    "word = list(random.choice(lis))\n",
    "print(word)\n"
   ]
  },
  {
   "cell_type": "code",
   "execution_count": 2,
   "metadata": {},
   "outputs": [],
   "source": [
    "def correct_word():\n",
    "    count = 5\n",
    "    blank = ['- ' ]* len(word)\n",
    "    print(blank)  \n",
    "    n = len(word)\n",
    "              \n",
    "    while n>0:\n",
    "\n",
    "        let = input()\n",
    "        if let in word:\n",
    "            index = word.index(let)\n",
    "            blank[index] = let\n",
    "            print(blank)\n",
    "            n = n-1\n",
    "            \n",
    "        else:\n",
    "            count = count-1\n",
    "            print(\"wrong letter you have {} chance\".format(count))\n",
    "        if count == 0:\n",
    "            print(\"you have no chance\")\n",
    "            break\n",
    "\n",
    "\n",
    "               \n",
    "     "
   ]
  },
  {
   "cell_type": "code",
   "execution_count": 4,
   "metadata": {},
   "outputs": [
    {
     "name": "stdout",
     "output_type": "stream",
     "text": [
      "---------welcome to hang man----------\n",
      "are you ready to play (enter yes / no) yes\n",
      "['- ', '- ', '- ']\n",
      "j\n",
      "wrong letter you have 4 chance\n",
      "r\n",
      "['- ', '- ', 'r']\n",
      "c\n",
      "['c', '- ', 'r']\n",
      "a\n",
      "['c', 'a', 'r']\n",
      "Do yo you want to play again (enter yes / no no\n",
      "T H A N K Y O U\n"
     ]
    }
   ],
   "source": [
    "import random\n",
    "while True:\n",
    "    \n",
    "    lis = [\"car\",\"van\",\"computer\"]   \n",
    "    word = list(random.choice(lis))\n",
    "    \n",
    "    print(\"---------welcome to hang man----------\")\n",
    "    \n",
    "    yes_no = input(\"are you ready to play (enter yes / no) \")    \n",
    "    if yes_no == \"yes\":\n",
    "        correct_word() \n",
    "        choice = input(\"Do yo you want to play again (enter yes / no \")\n",
    "        if choice == \"yes\":\n",
    "            continue\n",
    "        else:\n",
    "            print(\"T H A N K Y O U\")\n",
    "            break\n",
    "        \n",
    "\n",
    "    else:\n",
    "        print(\"T H A N K Y O U\")\n",
    "        break\n"
   ]
  },
  {
   "cell_type": "code",
   "execution_count": null,
   "metadata": {},
   "outputs": [],
   "source": []
  },
  {
   "cell_type": "code",
   "execution_count": null,
   "metadata": {},
   "outputs": [],
   "source": []
  }
 ],
 "metadata": {
  "kernelspec": {
   "display_name": "Python 3",
   "language": "python",
   "name": "python3"
  },
  "language_info": {
   "codemirror_mode": {
    "name": "ipython",
    "version": 3
   },
   "file_extension": ".py",
   "mimetype": "text/x-python",
   "name": "python",
   "nbconvert_exporter": "python",
   "pygments_lexer": "ipython3",
   "version": "3.7.6"
  }
 },
 "nbformat": 4,
 "nbformat_minor": 4
}
